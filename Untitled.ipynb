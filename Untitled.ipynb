{
 "cells": [
  {
   "cell_type": "code",
   "execution_count": 13,
   "id": "2aeed531-6f49-4085-9eb3-4d43b6b7cde7",
   "metadata": {},
   "outputs": [],
   "source": [
    "from dotenv import load_dotenv\n",
    "load_dotenv(\"./backend/.env\")\n",
    "import backend.warband_lore \n",
    "from backend.warband_lore import WarbandLore, WarbandLoreOptions"
   ]
  },
  {
   "cell_type": "code",
   "execution_count": 8,
   "id": "5ac6b77d-5383-4d76-9eac-4ad516685cf2",
   "metadata": {},
   "outputs": [],
   "source": [
    "import backend.llm"
   ]
  },
  {
   "cell_type": "code",
   "execution_count": 29,
   "id": "59f37c32-e03a-41e2-bb64-8bc5a0476420",
   "metadata": {},
   "outputs": [],
   "source": [
    "\n",
    "from backend.llm import get_llm, get_vectorstore\n",
    "vector_store = get_vectorstore()\n",
    "base_instructions = \"\"\"\n",
    "You are a lore creation assistant for the \"Trench Crusade\" setting. You have access to Trench Crusade lore documents (provided as context) and must produce a JSON output that describes a warband.\n",
    "\n",
    "User provides a warband description text that might contain unit names, equipment, etc. You must create a thematic lore output for this warband, including:\n",
    "\n",
    "- Names for all members of the warband (in a style consistent with the theme).\n",
    "- A general warband description.\n",
    "- A warband goal (why they are crusading/fighting).\n",
    "- A one-paragraph micro-story that highlights some unique aspect of their history or a pivotal event.\n",
    "\n",
    "You must produce 3 variations (options) of the final lore result. Each variation can differ in tone, details, or cultural background based on the instructions.\n",
    "\n",
    "Ensure any references to the lore match the Trench Crusade setting information from the provided documents.\n",
    "If no theme info is provided, propose 3 distinct thematic variations.\n",
    "If theme info is provided, incorporate that theme but still provide 3 stylistically distinct final outputs.\n",
    "\"\"\"\n"
   ]
  },
  {
   "cell_type": "code",
   "execution_count": 11,
   "id": "3ceb089d-aca7-4083-b7eb-e7364d0c495d",
   "metadata": {},
   "outputs": [],
   "source": [
    "model = get_llm()"
   ]
  },
  {
   "cell_type": "code",
   "execution_count": 16,
   "id": "4c12e2ca-f3eb-4d0a-91d7-8dea0835337d",
   "metadata": {},
   "outputs": [],
   "source": [
    "structured_model = model.with_structured_output(WarbandLoreOptions, strict=True)"
   ]
  },
  {
   "cell_type": "code",
   "execution_count": 20,
   "id": "1d8f9df9-e49f-422f-acba-bac1c5b27bb3",
   "metadata": {},
   "outputs": [],
   "source": [
    "response = structured_model.invoke(base_instructions + \"The warband is: corpse guard, lord of tumours, hound\")"
   ]
  },
  {
   "cell_type": "code",
   "execution_count": 23,
   "id": "5498edb0-7296-4c83-8ff4-d952d4a0b465",
   "metadata": {},
   "outputs": [
    {
     "data": {
      "text/plain": [
       "WarbandLore(member_names=['Goregrip the Wretched', \"Sorrow's Canker\", 'Ravenous Maw', 'Murmur of Decay'], warband_description='The Corpse Guard is a grotesque assemblage of once-noble warriors twisted by the foul corruption of the Trench. Each member bears the marks of their grim transformations, clad in tattered remnants of their former glory. They carry the stench of death with them, a constant reminder of the horrors they have witnessed in the depths of the trenches.', warband_goal='Their goal is to reclaim the sacred grounds of the fallen, seeking to purify the land tainted by war and death, even if it means spreading their own corruption to do so.', micro_story='Once, the Corpse Guard was a revered order known as the Knights of the Last Dawn, protectors of the realm. But during the Great Sickness, they were cursed by a malevolent force, transforming them into the very essence of decay. As they roamed the trenches, they unearthed the remains of their fallen comrades, vowing to reclaim their honor by turning the tide of the war against the dark forces that had betrayed them.')"
      ]
     },
     "execution_count": 23,
     "metadata": {},
     "output_type": "execute_result"
    }
   ],
   "source": [
    "response.options[0]"
   ]
  },
  {
   "cell_type": "code",
   "execution_count": 47,
   "id": "df76fed8-b154-48cb-9620-abb5f4e58de3",
   "metadata": {},
   "outputs": [],
   "source": [
    "\n",
    "from langchain import hub\n",
    "from langchain_core.documents import Document\n",
    "from langgraph.graph import START, StateGraph\n",
    "from typing_extensions import List, TypedDict\n",
    "\n",
    "# Define state for application\n",
    "class State(TypedDict):\n",
    "    warband_text: str\n",
    "    warband_theme: str\n",
    "    context: List[Document]\n",
    "    answer: WarbandLoreOptions"
   ]
  },
  {
   "cell_type": "code",
   "execution_count": 48,
   "id": "cf02cf2f-97cf-47ce-a18f-a18d8248fa46",
   "metadata": {},
   "outputs": [],
   "source": [
    "from langchain_core.prompts import ChatPromptTemplate\n",
    "\n",
    "prompt_template = ChatPromptTemplate([\n",
    "    (\"system\", base_instructions),\n",
    "    (\"human\", \"Warband theme: {warband_theme} \\n Warband text: {warband_text}\"),\n",
    "])"
   ]
  },
  {
   "cell_type": "code",
   "execution_count": 75,
   "id": "6a7c9a8f-e18f-4dae-bf36-301a74183a08",
   "metadata": {},
   "outputs": [],
   "source": [
    "# Define application steps\n",
    "def retrieve(state: State):\n",
    "    retrieved_docs = vector_store.similarity_search(state[\"warband_text\"] + \" \\n\\n \" + state[\"warband_theme\"])\n",
    "    return {\"context\": retrieved_docs}\n",
    "\n",
    "\n",
    "def generate(state: State):\n",
    "    docs_content = \"\\n\\n\".join(doc.page_content for doc in state[\"context\"])\n",
    "    messages = prompt_template.invoke({\"warband_text\": state[\"warband_text\"], \"warband_theme\": state[\"warband_theme\"], \"context\": docs_content})\n",
    "    response = structured_model.invoke(messages)\n",
    "    return {\"answer\": response}"
   ]
  },
  {
   "cell_type": "code",
   "execution_count": 76,
   "id": "4f527813-24a0-41ae-8fe6-8ffe0e86a3d0",
   "metadata": {},
   "outputs": [],
   "source": [
    "# Compile application and test\n",
    "graph_builder = StateGraph(State).add_sequence([retrieve, generate])\n",
    "graph_builder.add_edge(START, \"retrieve\")\n",
    "graph = graph_builder.compile()"
   ]
  },
  {
   "cell_type": "code",
   "execution_count": 77,
   "id": "133bbbd7-cf24-48f3-bb13-e750236ae50a",
   "metadata": {},
   "outputs": [],
   "source": [
    "result = graph.invoke({\"warband_text\": \"The warband is: corpse guard, lord of tumours, hound\", \"warband_theme\": \"\"})"
   ]
  },
  {
   "cell_type": "code",
   "execution_count": 80,
   "id": "abc45934-11ff-426e-aab6-34a4fa81b1ff",
   "metadata": {},
   "outputs": [
    {
     "data": {
      "text/plain": [
       "{'warband_text': 'The warband is: corpse guard, lord of tumours, hound',\n",
       " 'warband_theme': '',\n",
       " 'context': [Document(metadata={'source': './backend/lore_pdfs/Trench-Crusade-Lore-v1.0_compressed-1.pdf', 'page': 27}, page_content='28\\nTRENCH CRUSADE LORE SAMPLER\\n  rom a very early age a select group of Heretic \\n  youth are sent beyond the Gates of Hell to \\n  be raised as Death Commandos. Few are \\n  chosen, fewer return, but those who complete \\n  their training stand amongst the most elite of \\nthe Heretic Legions.\\nBarracked in the Seventh Circle of Inferno, they are \\ntaught the deadly arts of assassination by the damned \\nsouls of the greatest killers and murderers whose souls \\nnow reside in Hell. Here they undergo brutal training, \\nmastering the use of all manner of weapons and poisons \\nand they are schooled in martial skills by the personal \\nguard of the Arch-Devil Beleth. They learn to slither as \\nserpents through the battlefield, leaving murder in their \\nwake.\\nTheir specially forged T artarus Claws are quenched in \\nthe waters of the River Styx, a source of poison more \\npotent than any mortal venom. Many carry silenced \\npistols to take down targets unseen and unheard. \\nAside from their weapons, the Death Commandos \\nare equipped with stealth generators that operate by \\ndiffracting light, utilising the heart of an innocent and \\ninfernal technologies that hide them from the eyes of \\nGod.\\nOnce their training is complete, the Death Commandos \\nemerge from the abyss as silent spectres of carnage. Of \\nthe Heretic troops fighting in the T renches of the Great \\nW ar, the Death Commandos are the most feared by the \\nfaithful.\\nMost infamous in the ranks are three master Death \\nCommandos, Cain, Barabbas and Haman, who \\nsimultaneously assassinated the Supreme Pontiff, the \\nHigh Prophetess Aelia and the Holy Roman Emperor \\nin the year 1894. This threw Church forces into turmoil \\nand allowed the Heretic Legions to launch a lightning \\noffensive across the Levant and Europe.\\nF\\nHeretic Death Commandos\\nThe tongues of the Death Commandos are ceremonially \\nripped out at the end of their training. They will \\nnever speak of what they have learned and their \\nunnerving silence adds to their sinister reputation. They'),\n",
       "  Document(metadata={'source': './backend/lore_pdfs/Trench-Crusade-Lore-v1.0_compressed-1.pdf', 'page': 26}, page_content='27\\nTRENCH CRUSADE LORE SAMPLER\\nof abyssal fires. The blackened and burnt flesh of the \\nAnointed will never heal, but in exchange they are \\ngranted the right to wear Heavy Gehenna armoured \\nsuits and they gain strength to wield weapons that a \\nnormal man could barely lift. It is said that glancing into \\ntheir eyes one can see the reflection of the very flames of \\nHell, forever etched in their vision.\\nY et some who witness go even further in their depraved \\ndevotion. Suicide is a mortal sin and one eagerly \\nembraced by many. Most cry out for devils to notice \\ntheir final sacrifice in vain, as the Infernal nobles are \\ncapricious and delight in betraying their own as much \\nas their enemies. But those with truly wicked and \\ndepraved souls are resurrected in contempt of the \\nRedeemer, coming back as Choristers, horrific mockeries \\nof Creation whose severed heads sing unholy hymns \\npraising the Devil, their voices causing the ears of their \\nenemies to bleed.\\nThough the vast bulk of the Heretic Legions are made \\nof mortal humans, Hell often sends their own abhorrent \\nprogeny to reinforce their mortal foot soldiers: \\nnightmarish W ar Beasts made of captured and possessed \\ncreatures and dreaded Artillery Witches who act as \\nmobile artillery supporting lighting assaults. Thus, in \\nthis accursed theatre of war, mortals and abominations \\nmarch hand in withering hand, bound by the suffering \\nties of damnation. The wails of tortured beasts meld \\nwith the shrieks of damned souls, while the skies rain \\ndown fiery retribution upon all who dare to oppose the \\nHeretics’ ceaseless crusade for a demented parity with \\ntheir Creator.'),\n",
       "  Document(metadata={'source': './backend/lore_pdfs/Trench-Crusade-Lore-v1.0_compressed-1.pdf', 'page': 55}, page_content='56\\nTRENCH CRUSADE LORE SAMPLER'),\n",
       "  Document(metadata={'source': './backend/lore_pdfs/Trench-Crusade-Lore-v1.0_compressed-1.pdf', 'page': 37}, page_content='38\\nTRENCH CRUSADE LORE SAMPLER')],\n",
       " 'answer': WarbandLoreOptions(options=[WarbandLore(member_names=['Gorath the Corpse Guard', 'Malak the Tumor Lord', 'Fenris the Hound of Death'], warband_description='This sinister warband, known as the Corpse Guard, is a relentless force of decay and ruin. Clad in tattered remnants of their former selves, they wander the battlefields, their purpose twisted by the insatiable hunger for flesh and the promise of power through suffering. Each member bears the scars of their past lives, transformed into grotesque avatars of death, wielding the very essence of rot and disease as weapons against the living.', warband_goal='To reclaim the lost lands of their ancestors, spreading their blight and despair to all who oppose them, in order to elevate their twisted patron, the Master of Decay.', micro_story='Once, they were mere soldiers, brave and loyal, until the day they fell in battle and were resurrected by the foul sorcery of the Tumor Lord. In a moment of betrayal, Malak unleashed a plague upon their dying comrades, transforming them into the Corpse Guard. Now, they march forward, their loyalty forever twisted, seeking revenge on the living for the pain they once endured.'), WarbandLore(member_names=['Gorthak the Rotting', 'Zyra the Tumor Weaver', 'Karn the Hound of Sorrow'], warband_description='The Corpse Guard are a grotesque battalion of the damned, rising from the wastelands where death and despair intertwine. Clad in the remnants of their former lives, they are conduits of decay, sowing disease and misery wherever they roam. Their presence is marked by the stench of rot, a harbinger of the inevitable demise that follows in their wake.', warband_goal='To spread the influence of their dark patron by eliminating all life that defies the natural order, proving that decay is the ultimate truth of existence.', micro_story='In a forgotten trench, the Corpse Guard made their stand against a battalion of the living, armed with nothing but their twisted wills and the unholy gifts bestowed upon them by the Tumor Lord. In a climactic clash, Gorthak unleashed a torrent of disease, decimating the ranks of their foes. From that day forth, they became legends of fear, whispered about in hushed tones by those who still cling to life.'), WarbandLore(member_names=['Thragoth the Undying', 'Luriel the Tumor-Bearer', 'Houndmaster Vexis'], warband_description='The Corpse Guard serve as relentless sentinels of death, a warband forged in the fires of betrayal and rebirth. Each member bears a grotesque fusion of flesh and rot, their bodies adorned with the symbols of their newfound allegiance to the Tumor Lord. They are not merely fighters; they are living embodiments of decay, a chilling reminder of the fate that awaits all who dare to defy their master.', warband_goal='To bring about a new age of decay, where the natural order is overturned and the living are cast into eternal suffering, feeding the power of their dark patron.', micro_story='Thragoth was once a revered commander, his name honored among the living. Yet, in a desperate bid for survival, he sought the forbidden knowledge of the Tumor Lord. The price was steep; he abandoned his humanity and was transformed into a vessel of decay. Now, he leads the Corpse Guard, driven by the desire to fulfill the dark prophecy that binds them all, seeking to annihilate any remnants of life and awaken an era of eternal night.')])}"
      ]
     },
     "execution_count": 80,
     "metadata": {},
     "output_type": "execute_result"
    }
   ],
   "source": [
    "result"
   ]
  },
  {
   "cell_type": "code",
   "execution_count": 81,
   "id": "b108a3d5-8cdf-43e8-9de7-90d34e5f1177",
   "metadata": {},
   "outputs": [
    {
     "data": {
      "text/plain": [
       "backend.warband_lore.WarbandLoreOptions"
      ]
     },
     "execution_count": 81,
     "metadata": {},
     "output_type": "execute_result"
    }
   ],
   "source": [
    "type(result['answer'])"
   ]
  },
  {
   "cell_type": "code",
   "execution_count": 87,
   "id": "66f3dc6f-06ed-41c8-9690-3387a3b53277",
   "metadata": {},
   "outputs": [
    {
     "name": "stdout",
     "output_type": "stream",
     "text": [
      "{'options': [{'member_names': ['Gorath the Corpse Guard', 'Malak the Tumor Lord', 'Fenris the Hound of Death'], 'warband_description': 'This sinister warband, known as the Corpse Guard, is a relentless force of decay and ruin. Clad in tattered remnants of their former selves, they wander the battlefields, their purpose twisted by the insatiable hunger for flesh and the promise of power through suffering. Each member bears the scars of their past lives, transformed into grotesque avatars of death, wielding the very essence of rot and disease as weapons against the living.', 'warband_goal': 'To reclaim the lost lands of their ancestors, spreading their blight and despair to all who oppose them, in order to elevate their twisted patron, the Master of Decay.', 'micro_story': 'Once, they were mere soldiers, brave and loyal, until the day they fell in battle and were resurrected by the foul sorcery of the Tumor Lord. In a moment of betrayal, Malak unleashed a plague upon their dying comrades, transforming them into the Corpse Guard. Now, they march forward, their loyalty forever twisted, seeking revenge on the living for the pain they once endured.'}, {'member_names': ['Gorthak the Rotting', 'Zyra the Tumor Weaver', 'Karn the Hound of Sorrow'], 'warband_description': 'The Corpse Guard are a grotesque battalion of the damned, rising from the wastelands where death and despair intertwine. Clad in the remnants of their former lives, they are conduits of decay, sowing disease and misery wherever they roam. Their presence is marked by the stench of rot, a harbinger of the inevitable demise that follows in their wake.', 'warband_goal': 'To spread the influence of their dark patron by eliminating all life that defies the natural order, proving that decay is the ultimate truth of existence.', 'micro_story': 'In a forgotten trench, the Corpse Guard made their stand against a battalion of the living, armed with nothing but their twisted wills and the unholy gifts bestowed upon them by the Tumor Lord. In a climactic clash, Gorthak unleashed a torrent of disease, decimating the ranks of their foes. From that day forth, they became legends of fear, whispered about in hushed tones by those who still cling to life.'}, {'member_names': ['Thragoth the Undying', 'Luriel the Tumor-Bearer', 'Houndmaster Vexis'], 'warband_description': 'The Corpse Guard serve as relentless sentinels of death, a warband forged in the fires of betrayal and rebirth. Each member bears a grotesque fusion of flesh and rot, their bodies adorned with the symbols of their newfound allegiance to the Tumor Lord. They are not merely fighters; they are living embodiments of decay, a chilling reminder of the fate that awaits all who dare to defy their master.', 'warband_goal': 'To bring about a new age of decay, where the natural order is overturned and the living are cast into eternal suffering, feeding the power of their dark patron.', 'micro_story': 'Thragoth was once a revered commander, his name honored among the living. Yet, in a desperate bid for survival, he sought the forbidden knowledge of the Tumor Lord. The price was steep; he abandoned his humanity and was transformed into a vessel of decay. Now, he leads the Corpse Guard, driven by the desire to fulfill the dark prophecy that binds them all, seeking to annihilate any remnants of life and awaken an era of eternal night.'}]}\n"
     ]
    },
    {
     "name": "stderr",
     "output_type": "stream",
     "text": [
      "/tmp/ipykernel_98437/2230994096.py:6: PydanticDeprecatedSince20: The `json` method is deprecated; use `model_dump_json` instead. Deprecated in Pydantic V2.0 to be removed in V3.0. See Pydantic V2 Migration Guide at https://errors.pydantic.dev/2.10/migration/\n",
      "  response = json.loads(response.json())  # Convert Pydantic object to dict\n"
     ]
    }
   ],
   "source": [
    "\n",
    "import json\n",
    "response =result['answer']\n",
    "# Ensure response is a JSON string\n",
    "try:\n",
    "    if isinstance(response, WarbandLoreOptions):\n",
    "        response = json.loads(response.json())  # Convert Pydantic object to dict\n",
    "    elif isinstance(response, str):\n",
    "        response = json.loads(response)  # Already a string\n",
    "    else:\n",
    "        raise ValueError(\"Unexpected response type.\")\n",
    "    \n",
    "    # Check format and validate structure\n",
    "    if \"options\" not in response or len(response[\"options\"]) != 3:\n",
    "        raise ValueError(\"Output JSON does not have 'options' with 3 elements.\")\n",
    "    \n",
    "    print(response)\n",
    "except Exception as e:\n",
    "    # Handle parsing errors\n",
    "    print({\n",
    "        \"error\": \"Invalid response format\",\n",
    "        \"raw_response\": str(response),\n",
    "        \"details\": str(e)\n",
    "    })"
   ]
  },
  {
   "cell_type": "code",
   "execution_count": null,
   "id": "d593d48c-f01b-4b9c-bbea-aea5690dfbdf",
   "metadata": {},
   "outputs": [],
   "source": []
  }
 ],
 "metadata": {
  "kernelspec": {
   "display_name": "Python 3 (ipykernel)",
   "language": "python",
   "name": "python3"
  },
  "language_info": {
   "codemirror_mode": {
    "name": "ipython",
    "version": 3
   },
   "file_extension": ".py",
   "mimetype": "text/x-python",
   "name": "python",
   "nbconvert_exporter": "python",
   "pygments_lexer": "ipython3",
   "version": "3.12.3"
  }
 },
 "nbformat": 4,
 "nbformat_minor": 5
}
